{
 "cells": [
  {
   "cell_type": "markdown",
   "metadata": {
    "tags": []
   },
   "source": [
    "# My Jupyter Notebook On IBM Watson Studio"
   ]
  },
  {
   "cell_type": "markdown",
   "metadata": {},
   "source": [
    "Hello world ! My name is **Delice M-L**.\n",
    "<br> I'm currently a Masters Graduate looking for a role as a Quantitative Analyst. \n"
   ]
  },
  {
   "cell_type": "markdown",
   "metadata": {},
   "source": [
    "*I am interested in Data Science because it enables you to make informed decision based on the manipulation of Data.\n",
    "<br> Data science also enables you to create models that can influence these choices and learn new insights about an topic area.*"
   ]
  },
  {
   "cell_type": "markdown",
   "metadata": {},
   "source": [
    "### Adding Numbers via Python\n"
   ]
  },
  {
   "cell_type": "code",
   "execution_count": 4,
   "metadata": {},
   "outputs": [
    {
     "data": {
      "text/plain": [
       "2"
      ]
     },
     "execution_count": 4,
     "metadata": {},
     "output_type": "execute_result"
    }
   ],
   "source": [
    "# Here we use the Python console to demonstrate addition of two numbers\n",
    "1 + 1"
   ]
  },
  {
   "cell_type": "markdown",
   "metadata": {},
   "source": [
    "### NCAA CFB AP TOP 4 Ranking\n",
    "\n",
    "| Rank | Team | \n",
    "|------|------|\n",
    "|1     | Georgia|\n",
    "|2     |Ohio State|\n",
    "|3     |Alabama|\n",
    "|4     | Clemson|\n",
    "\n",
    "### Premier League 2022/23 League Standings TOP 4\n",
    "\n",
    "1. Arsenal\n",
    "2. Manchester City \n",
    "3. Tottenham Hotspur\n",
    "4. Chelsea\n",
    "\n",
    "### Biggest Cities in the UK (According to Me!)\n",
    "\n",
    "* London\n",
    "* Birmingham\n",
    "* Manchester \n",
    "* Liverpool\n",
    "\n",
    "# Links to random websites\n",
    "\n",
    "[Arsenal Team Website](https://www.arsenal.com/)\n",
    "<br>\n",
    "[BBC Sport](https://www.bbc.co.uk/sport)"
   ]
  }
 ],
 "metadata": {
  "kernelspec": {
   "display_name": "Python",
   "language": "python",
   "name": "conda-env-python-py"
  },
  "language_info": {
   "codemirror_mode": {
    "name": "ipython",
    "version": 3
   },
   "file_extension": ".py",
   "mimetype": "text/x-python",
   "name": "python",
   "nbconvert_exporter": "python",
   "pygments_lexer": "ipython3",
   "version": "3.7.12"
  }
 },
 "nbformat": 4,
 "nbformat_minor": 4
}
